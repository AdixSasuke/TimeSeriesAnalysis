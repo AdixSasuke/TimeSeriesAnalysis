{
 "cells": [
  {
   "cell_type": "code",
   "execution_count": 1,
   "id": "1fb4ccac",
   "metadata": {},
   "outputs": [
    {
     "name": "stdout",
     "output_type": "stream",
     "text": [
      "Requirement already satisfied: seaborn in c:\\users\\chhav\\appdata\\local\\packages\\pythonsoftwarefoundation.python.3.11_qbz5n2kfra8p0\\localcache\\local-packages\\python311\\site-packages (0.13.2)\n",
      "Requirement already satisfied: numpy!=1.24.0,>=1.20 in c:\\users\\chhav\\appdata\\local\\packages\\pythonsoftwarefoundation.python.3.11_qbz5n2kfra8p0\\localcache\\local-packages\\python311\\site-packages (from seaborn) (1.26.4)\n",
      "Requirement already satisfied: pandas>=1.2 in c:\\users\\chhav\\appdata\\local\\packages\\pythonsoftwarefoundation.python.3.11_qbz5n2kfra8p0\\localcache\\local-packages\\python311\\site-packages (from seaborn) (1.5.3)\n",
      "Requirement already satisfied: matplotlib!=3.6.1,>=3.4 in c:\\users\\chhav\\appdata\\local\\packages\\pythonsoftwarefoundation.python.3.11_qbz5n2kfra8p0\\localcache\\local-packages\\python311\\site-packages (from seaborn) (3.10.0)\n",
      "Requirement already satisfied: contourpy>=1.0.1 in c:\\users\\chhav\\appdata\\local\\packages\\pythonsoftwarefoundation.python.3.11_qbz5n2kfra8p0\\localcache\\local-packages\\python311\\site-packages (from matplotlib!=3.6.1,>=3.4->seaborn) (1.3.1)\n",
      "Requirement already satisfied: cycler>=0.10 in c:\\users\\chhav\\appdata\\local\\packages\\pythonsoftwarefoundation.python.3.11_qbz5n2kfra8p0\\localcache\\local-packages\\python311\\site-packages (from matplotlib!=3.6.1,>=3.4->seaborn) (0.12.1)\n",
      "Requirement already satisfied: fonttools>=4.22.0 in c:\\users\\chhav\\appdata\\local\\packages\\pythonsoftwarefoundation.python.3.11_qbz5n2kfra8p0\\localcache\\local-packages\\python311\\site-packages (from matplotlib!=3.6.1,>=3.4->seaborn) (4.55.3)\n",
      "Requirement already satisfied: kiwisolver>=1.3.1 in c:\\users\\chhav\\appdata\\local\\packages\\pythonsoftwarefoundation.python.3.11_qbz5n2kfra8p0\\localcache\\local-packages\\python311\\site-packages (from matplotlib!=3.6.1,>=3.4->seaborn) (1.4.8)\n",
      "Requirement already satisfied: packaging>=20.0 in c:\\users\\chhav\\appdata\\local\\packages\\pythonsoftwarefoundation.python.3.11_qbz5n2kfra8p0\\localcache\\local-packages\\python311\\site-packages (from matplotlib!=3.6.1,>=3.4->seaborn) (23.2)\n",
      "Requirement already satisfied: pillow>=8 in c:\\users\\chhav\\appdata\\local\\packages\\pythonsoftwarefoundation.python.3.11_qbz5n2kfra8p0\\localcache\\local-packages\\python311\\site-packages (from matplotlib!=3.6.1,>=3.4->seaborn) (10.2.0)\n",
      "Requirement already satisfied: pyparsing>=2.3.1 in c:\\users\\chhav\\appdata\\local\\packages\\pythonsoftwarefoundation.python.3.11_qbz5n2kfra8p0\\localcache\\local-packages\\python311\\site-packages (from matplotlib!=3.6.1,>=3.4->seaborn) (3.2.1)\n",
      "Requirement already satisfied: python-dateutil>=2.7 in c:\\users\\chhav\\appdata\\local\\packages\\pythonsoftwarefoundation.python.3.11_qbz5n2kfra8p0\\localcache\\local-packages\\python311\\site-packages (from matplotlib!=3.6.1,>=3.4->seaborn) (2.9.0.post0)\n",
      "Requirement already satisfied: pytz>=2020.1 in c:\\users\\chhav\\appdata\\local\\packages\\pythonsoftwarefoundation.python.3.11_qbz5n2kfra8p0\\localcache\\local-packages\\python311\\site-packages (from pandas>=1.2->seaborn) (2024.2)\n",
      "Requirement already satisfied: six>=1.5 in c:\\users\\chhav\\appdata\\local\\packages\\pythonsoftwarefoundation.python.3.11_qbz5n2kfra8p0\\localcache\\local-packages\\python311\\site-packages (from python-dateutil>=2.7->matplotlib!=3.6.1,>=3.4->seaborn) (1.17.0)\n",
      "Note: you may need to restart the kernel to use updated packages.\n"
     ]
    }
   ],
   "source": [
    "%pip install seaborn\n",
    "import numpy as np\n",
    "import pandas as pd\n",
    "import matplotlib.pyplot as plt\n",
    "import seaborn as sns\n",
    "import warnings\n",
    "warnings.filterwarnings(\"ignore\")\n",
    "\n",
    "# In case if you are working in a notebook\n",
    "%matplotlib inline"
   ]
  },
  {
   "cell_type": "code",
   "execution_count": null,
   "id": "95863293",
   "metadata": {},
   "outputs": [
    {
     "name": "stdout",
     "output_type": "stream",
     "text": [
      "[8 1 5 0 7 2 9 4 3 6]\n",
      "              0\n",
      "2007-04-30  476\n",
      "2007-05-31  224\n",
      "2007-06-30  340\n",
      "2007-07-31  468\n",
      "2007-08-31   97\n",
      "2007-09-30  382\n",
      "2007-10-31  109\n",
      "2007-11-30  881\n",
      "2007-12-31  673\n",
      "2008-01-31  140\n",
      "2008-02-29  671\n",
      "2008-03-31  318\n",
      "2008-04-30  779\n",
      "2008-05-31  353\n",
      "2008-06-30  501\n",
      "2008-07-31  423\n",
      "2008-08-31  815\n",
      "2008-09-30  395\n",
      "2008-10-31  201\n",
      "2008-11-30  965\n",
      "2008-12-31  286\n",
      "2009-01-31  170\n",
      "2009-02-28  469\n",
      "2009-03-31  323\n",
      "2009-04-30   31\n",
      "2009-05-31  262\n",
      "2009-06-30  757\n",
      "2009-07-31  866\n",
      "2009-08-31  570\n",
      "2009-09-30  484\n",
      "2009-10-31   68\n",
      "2009-11-30  520\n",
      "2009-12-31  691\n",
      "2010-01-31  485\n",
      "2010-02-28  709\n",
      "2010-03-31  985\n",
      "2010-04-30  792\n",
      "2010-05-31  199\n",
      "2010-06-30  967\n",
      "2010-07-31  696\n",
      "2010-08-31  967\n",
      "2010-09-30  572\n",
      "2010-10-31  885\n",
      "2010-11-30  576\n",
      "2010-12-31  253\n",
      "2011-01-31  841\n",
      "2011-02-28  514\n",
      "2011-03-31  140\n",
      "2011-04-30  494\n",
      "2011-05-31  828\n",
      "2011-06-30  656\n",
      "2011-07-31   30\n",
      "2011-08-31  850\n",
      "2011-09-30  176\n",
      "2011-10-31  283\n",
      "2011-11-30  397\n",
      "2011-12-31  610\n",
      "2012-01-31  325\n",
      "2012-02-29   23\n"
     ]
    }
   ],
   "source": [
    "np.random.seed(42)\n",
    "\n",
    "val = np.arange(10)\n",
    "np.random.shuffle(val)\n",
    "print(val)\n",
    "\n",
    "date_range = pd.date_range(start='2007-04-01', end='2012-03-01', freq='M')\n",
    "dummy = pd.DataFrame(np.random.randint(10, 1000, size=len(date_range)), index = date_range, columns=['Value'])\n",
    "print(dummy)"
   ]
  }
 ],
 "metadata": {
  "kernelspec": {
   "display_name": "Python 3",
   "language": "python",
   "name": "python3"
  },
  "language_info": {
   "codemirror_mode": {
    "name": "ipython",
    "version": 3
   },
   "file_extension": ".py",
   "mimetype": "text/x-python",
   "name": "python",
   "nbconvert_exporter": "python",
   "pygments_lexer": "ipython3",
   "version": "3.11.9"
  }
 },
 "nbformat": 4,
 "nbformat_minor": 5
}
